{
 "cells": [
  {
   "cell_type": "code",
   "execution_count": 3,
   "metadata": {},
   "outputs": [],
   "source": [
    "# We are required to build the markov transiition matrix \n",
    "import pandas as pd\n",
    "import numpy as np\n",
    "import matplotlib.pyplot as plt"
   ]
  },
  {
   "cell_type": "markdown",
   "metadata": {},
   "source": [
    "Here, after importing the required libraries, I am proceeding to calculate the Transition matrix \n",
    "\n",
    "The input sequence is given and the dinucletide frequencies can easily be found out from the given output table"
   ]
  },
  {
   "cell_type": "code",
   "execution_count": 5,
   "metadata": {},
   "outputs": [
    {
     "name": "stdout",
     "output_type": "stream",
     "text": [
      "\n",
      "Normalized Dinucleotide Frequency Matrix:\n",
      "          A         C         G         T\n",
      "A  0.111111  0.083333  0.111111  0.055556\n",
      "C  0.055556  0.000000  0.111111  0.000000\n",
      "G  0.166667  0.055556  0.083333  0.027778\n",
      "T  0.027778  0.027778  0.027778  0.055556\n"
     ]
    }
   ],
   "source": [
    "def calculate_dinucleotide_frequency(sequence):\n",
    "    #I am initializing a matrix with float dtype to avoid conversion warnings\n",
    "    row_labels = ['A', 'C', 'G', 'T']\n",
    "    column_labels = ['A', 'C', 'G', 'T']\n",
    "    df = pd.DataFrame(0.0, index=row_labels, columns=column_labels)\n",
    "    \n",
    "    for i in range(len(sequence)-1):\n",
    "        f1 = sequence[i]\n",
    "        f2 = sequence[i+1]\n",
    "        if f1 in row_labels and f2 in column_labels:\n",
    "            df.loc[f1, f2] += 1\n",
    "    # I am normalizing the matrix to get the frequency of each dinucleotide\n",
    "    total_count = df.values.sum()\n",
    "    if total_count > 0:  # Avoiding division by zero\n",
    "        normalized_df = df / total_count\n",
    "    else:\n",
    "        normalized_df = df\n",
    "        \n",
    "    return normalized_df\n",
    "# this is the sample usage , If anyone wants a different sequence then he/she can change the sequence variable\n",
    "if __name__ == \"__main__\":\n",
    "    sequence = \"AGACAGAGACGACAAAAATGGGATTTCGCGCGTAGGA\"\n",
    "    \n",
    "    # Calculate and show the normalized dinucleotide frequency matrix\n",
    "    result_df = calculate_dinucleotide_frequency(sequence)\n",
    "    print(\"\\nNormalized Dinucleotide Frequency Matrix:\")\n",
    "    print(result_df)"
   ]
  }
 ],
 "metadata": {
  "kernelspec": {
   "display_name": "Python 3",
   "language": "python",
   "name": "python3"
  },
  "language_info": {
   "codemirror_mode": {
    "name": "ipython",
    "version": 3
   },
   "file_extension": ".py",
   "mimetype": "text/x-python",
   "name": "python",
   "nbconvert_exporter": "python",
   "pygments_lexer": "ipython3",
   "version": "3.12.0"
  }
 },
 "nbformat": 4,
 "nbformat_minor": 2
}
