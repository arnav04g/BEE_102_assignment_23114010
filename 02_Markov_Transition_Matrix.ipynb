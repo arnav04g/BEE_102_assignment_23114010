{
 "cells": [
  {
   "cell_type": "code",
   "execution_count": 2,
   "metadata": {},
   "outputs": [],
   "source": [
    "# We are required to build the markov transiition matrix \n",
    "import pandas as pd\n",
    "import numpy as np\n",
    "import matplotlib.pyplot as plt"
   ]
  },
  {
   "cell_type": "markdown",
   "metadata": {},
   "source": [
    "Here, after importing the required libraries, I am proceeding to calculate the Transition matrix \n",
    "\n",
    "The input sequence is given and the dinucletide frequencies can easily be found out from the given output table"
   ]
  },
  {
   "cell_type": "code",
   "execution_count": 3,
   "metadata": {},
   "outputs": [
    {
     "name": "stdout",
     "output_type": "stream",
     "text": [
      "\n",
      "Normalized Dinucleotide Frequency Matrix:\n",
      "        A       C       G       T\n",
      "A  0.1111  0.0833  0.1111  0.0556\n",
      "C  0.0556  0.0000  0.1111  0.0000\n",
      "G  0.1667  0.0556  0.0833  0.0278\n",
      "T  0.0278  0.0278  0.0278  0.0556\n",
      "\n",
      "Markov Transition Probability Matrix:\n",
      "        A       C       G       T\n",
      "A  0.3077  0.2308  0.3077  0.1538\n",
      "C  0.3333  0.0000  0.6667  0.0000\n",
      "G  0.5000  0.1667  0.2500  0.0833\n",
      "T  0.2000  0.2000  0.2000  0.4000\n"
     ]
    }
   ],
   "source": [
    "def calculate_dinucleotide_frequency(sequence):\n",
    "    row_labels = ['A', 'C', 'G', 'T']\n",
    "    column_labels = ['A', 'C', 'G', 'T']\n",
    "    df = pd.DataFrame(0.0, index=row_labels, columns=column_labels)\n",
    "\n",
    "    for i in range(len(sequence) - 1):\n",
    "        f1 = sequence[i]\n",
    "        f2 = sequence[i + 1]\n",
    "        if f1 in row_labels and f2 in column_labels:\n",
    "            df.loc[f1, f2] += 1\n",
    "\n",
    "    # Normalized frequency matrix (overall dinucleotide frequencies)\n",
    "    total_count = df.values.sum()\n",
    "    normalized_df = df / total_count if total_count > 0 else df\n",
    "\n",
    "    # Markov transition matrix (row-wise normalization)\n",
    "    row_sums = df.sum(axis=1)\n",
    "    markov_df = df.div(row_sums, axis=0).fillna(0)  # Avoid NaNs by replacing them with 0\n",
    "\n",
    "    return normalized_df, markov_df\n",
    "\n",
    "if __name__ == \"__main__\":\n",
    "    sequence = \"AGACAGAGACGACAAAAATGGGATTTCGCGCGTAGGA\"\n",
    "    \n",
    "    normalized_df, markov_df = calculate_dinucleotide_frequency(sequence)\n",
    "    \n",
    "    print(\"\\nNormalized Dinucleotide Frequency Matrix:\")\n",
    "    print(normalized_df.round(4))\n",
    "    \n",
    "    print(\"\\nMarkov Transition Probability Matrix:\")\n",
    "    print(markov_df.round(4))\n"
   ]
  }
 ],
 "metadata": {
  "kernelspec": {
   "display_name": "Python 3",
   "language": "python",
   "name": "python3"
  },
  "language_info": {
   "codemirror_mode": {
    "name": "ipython",
    "version": 3
   },
   "file_extension": ".py",
   "mimetype": "text/x-python",
   "name": "python",
   "nbconvert_exporter": "python",
   "pygments_lexer": "ipython3",
   "version": "3.12.0"
  }
 },
 "nbformat": 4,
 "nbformat_minor": 2
}
