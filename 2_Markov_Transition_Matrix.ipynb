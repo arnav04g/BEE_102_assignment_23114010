{
 "cells": [
  {
   "cell_type": "code",
   "execution_count": 4,
   "metadata": {},
   "outputs": [],
   "source": [
    "#we ae required to build the markov transiition matrix \n",
    "import pandas as pd\n",
    "import numpy as np\n",
    "import matplotlib.pyplot as plt\n"
   ]
  },
  {
   "cell_type": "code",
   "execution_count": 5,
   "metadata": {},
   "outputs": [
    {
     "name": "stdout",
     "output_type": "stream",
     "text": [
      "\n",
      "Normalized Dinucleotide Frequency Matrix:\n",
      "          A         C         G         T\n",
      "A  0.111111  0.083333  0.111111  0.055556\n",
      "C  0.055556  0.000000  0.111111  0.000000\n",
      "G  0.166667  0.055556  0.083333  0.027778\n",
      "T  0.027778  0.027778  0.027778  0.055556\n",
      "\n",
      "Row-normalized Matrix (conditional probabilities):\n",
      "          A         C         G         T\n",
      "A  0.307692  0.230769  0.307692  0.153846\n",
      "C  0.333333  0.000000  0.666667  0.000000\n",
      "G  0.500000  0.166667  0.250000  0.083333\n",
      "T  0.200000  0.200000  0.200000  0.400000\n"
     ]
    }
   ],
   "source": [
    "def calculate_dinucleotide_frequency(sequence):\n",
    "    # Initialize a matrix with float dtype to avoid conversion warnings\n",
    "    row_labels = ['A', 'C', 'G', 'T']\n",
    "    column_labels = ['A', 'C', 'G', 'T']\n",
    "    df = pd.DataFrame(0.0, index=row_labels, columns=column_labels)\n",
    "    \n",
    "    for i in range(len(sequence)-1):\n",
    "        f1 = sequence[i]\n",
    "        f2 = sequence[i+1]\n",
    "        if f1 in row_labels and f2 in column_labels:\n",
    "            df.loc[f1, f2] += 1\n",
    "    \n",
    "    # Normalize by total count\n",
    "    total_count = df.values.sum()\n",
    "    if total_count > 0:  # Avoid division by zero\n",
    "        normalized_df = df / total_count\n",
    "    else:\n",
    "        normalized_df = df\n",
    "        \n",
    "    return normalized_df\n",
    "\n",
    "# Example usage\n",
    "if __name__ == \"__main__\":\n",
    "    sequence = \"AGACAGAGACGACAAAAATGGGATTTCGCGCGTAGGA\"\n",
    "    \n",
    "    # Calculate and show the normalized dinucleotide frequency matrix\n",
    "    result_df = calculate_dinucleotide_frequency(sequence)\n",
    "    print(\"\\nNormalized Dinucleotide Frequency Matrix:\")\n",
    "    print(result_df)\n",
    "    \n",
    "    # Optionally, you can also output row-normalized frequencies\n",
    "    # (probability of next nucleotide given current one)\n",
    "    row_sums = result_df.sum(axis=1)\n",
    "    row_normalized = result_df.div(row_sums, axis=0).fillna(0)\n",
    "    print(\"\\nRow-normalized Matrix (conditional probabilities):\")\n",
    "    print(row_normalized)"
   ]
  },
  {
   "cell_type": "code",
   "execution_count": null,
   "metadata": {},
   "outputs": [],
   "source": []
  }
 ],
 "metadata": {
  "kernelspec": {
   "display_name": "Python 3",
   "language": "python",
   "name": "python3"
  },
  "language_info": {
   "codemirror_mode": {
    "name": "ipython",
    "version": 3
   },
   "file_extension": ".py",
   "mimetype": "text/x-python",
   "name": "python",
   "nbconvert_exporter": "python",
   "pygments_lexer": "ipython3",
   "version": "3.12.0"
  }
 },
 "nbformat": 4,
 "nbformat_minor": 2
}
