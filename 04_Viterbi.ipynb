{
 "cells": [
  {
   "cell_type": "code",
   "execution_count": 1,
   "metadata": {},
   "outputs": [],
   "source": [
    "import math\n",
    "\n",
    "states = ['E', '5', 'I', 'start', 'end']\n",
    "# Here, I am defining the states of the HMM.\n",
    "transitions = {\n",
    "    'start': {'start': float('-inf'), 'E': math.log(1), '5': float('-inf'), 'I':float('-inf'), 'end': float('-inf')},\n",
    "    'E': {'start': float('-inf'), 'E': math.log(0.9), '5': math.log(0.1), 'I':float('-inf'), 'end': float('-inf')},\n",
    "    '5': {'start': float('-inf'), 'E':float('-inf'), '5':float('-inf'), 'I': math.log(1.0), 'end': float('-inf')},\n",
    "    'I': {'start': float('-inf'), 'E':float('-inf'), '5':float('-inf'), 'I': math.log(0.9), 'end': math.log(0.1)},\n",
    "    'end': {'start': float('-inf'), 'E':float('-inf'), '5':float('-inf'), 'I': float('-inf'), 'end': float('-inf')}\n",
    "}\n",
    "# Here I am definign the transition probabilities of the HMM.\n",
    "# The transition probabilities are defined in log space for numerical stability.\n",
    "emissions = {\n",
    "    'start': {'A': float('-inf'), 'C': float('-inf'), 'G': float('-inf'), 'T': float('-inf')},\n",
    "    'E': {'A': math.log(0.25), 'C': math.log(0.25), 'G': math.log(0.25), 'T': math.log(0.25)},\n",
    "    '5': {'A': math.log(0.05), 'C': float('-inf'), 'G': math.log(0.95), 'T': float('-inf')},\n",
    "    'I': {'A': math.log(0.4), 'C': math.log(0.1), 'G': math.log(0.1), 'T': math.log(0.4)},\n",
    "    'end': {'A': float('-inf'), 'C': float('-inf'), 'G': float('-inf'), 'T': float('-inf')},\n",
    "}\n"
   ]
  },
  {
   "cell_type": "markdown",
   "metadata": {},
   "source": [
    "First of all , I have mentioned all the possible transitions and emissions probabilities. \n",
    "\n",
    "This is done to ensure consistency with the Nature primer"
   ]
  },
  {
   "cell_type": "code",
   "execution_count": 2,
   "metadata": {},
   "outputs": [],
   "source": [
    "# This function takes a sequence of nucleotides and a path (a list of states) as input.\n",
    "def get_log_prob_of_a_given_path(path, sequence):\n",
    "    total_log_prob = 0.0\n",
    "    current_state = 'start'\n",
    "    \n",
    "    for i in range(len(path)):\n",
    "        next_state = path[i]\n",
    "        nucleotide = sequence[i]\n",
    "\n",
    "        probt = transitions[current_state][next_state] # Transition probability from current state to next state\n",
    "        probe = emissions[next_state][nucleotide] # Emission probability of the nucleotide given the next state\n",
    "\n",
    "        if probt == float('-inf') or probe == float('-inf'): \n",
    "            return float('-inf')\n",
    "\n",
    "        total_log_prob += probt + probe\n",
    "        current_state = next_state\n",
    "\n",
    "    total_log_prob += transitions[current_state]['end']# Transition probability from last state to end state\n",
    "    if total_log_prob == float('-inf'):\n",
    "        return float('-inf')\n",
    "    return round(total_log_prob,2) # This function returns the total log probability of the path given the sequence.\n",
    "# The function rounds the result to 2 decimal places for better readability.\n"
   ]
  },
  {
   "cell_type": "markdown",
   "metadata": {},
   "source": [
    "Here, I have defined a function that takes in a path and a sequence as input and outputs the log robability of that path being followed as mentioned in the question.\n"
   ]
  },
  {
   "cell_type": "code",
   "execution_count": 3,
   "metadata": {},
   "outputs": [
    {
     "name": "stdout",
     "output_type": "stream",
     "text": [
      "Log prob of path: -41.22\n"
     ]
    }
   ],
   "source": [
    "path = \"EEEEEEEEEEEEEEEEEE5IIIIIII\"\n",
    "sequence = \"CTTCATGTGAAAGCAGACGTAAGTCA\"\n",
    "print(\"Log prob of path:\", get_log_prob_of_a_given_path(path, sequence))  # Should print -41.22"
   ]
  },
  {
   "cell_type": "code",
   "execution_count": 6,
   "metadata": {},
   "outputs": [],
   "source": [
    "def viterbi(sequence):\n",
    "    # Initializing Viterbi matrix and backpointer matrix\n",
    "    V = [{}]\n",
    "    backpointer = [{}]\n",
    "\n",
    "    # I am initializing the starting state probabilities\n",
    "    for state in states:\n",
    "        V[0][state] = transitions['start'].get(state, float('-inf')) + emissions[state].get(sequence[0], float('-inf'))\n",
    "        backpointer[0][state] = 'start'\n",
    "\n",
    "    # I am runnning the Viterbi algorithm for each subsequent nucleotide\n",
    "    for t in range(1, len(sequence)):\n",
    "        V.append({})\n",
    "        backpointer.append({})\n",
    "\n",
    "        for state in states:\n",
    "            max_prob = float('-inf')\n",
    "            max_state = None\n",
    "\n",
    "            for prev_state in states:\n",
    "                prob = V[t - 1][prev_state] + transitions[prev_state].get(state, float('-inf')) + emissions[state].get(sequence[t], float('-inf')) # Emission probability of the nucleotide given the next state\n",
    "                if prob > max_prob:\n",
    "                    max_prob = prob\n",
    "                    max_state = prev_state\n",
    "\n",
    "            V[t][state] = max_prob\n",
    "            backpointer[t][state] = max_state\n",
    "\n",
    "    # Backtrack to find the most likely path\n",
    "    best_path = []\n",
    "    max_final_state = max(V[-1], key=V[-1].get)\n",
    "    best_path.append(max_final_state)\n",
    "\n",
    "    for t in range(len(sequence) - 2, -1, -1):\n",
    "        best_path.insert(0, backpointer[t + 1][best_path[0]]) # Backtrack to find the most likely state at time t\n",
    "\n",
    "    return best_path\n"
   ]
  },
  {
   "cell_type": "markdown",
   "metadata": {},
   "source": [
    "Here , I have implemented the Viterbi algorithm to output the most likely path using the backtracking algorithm \n",
    "\n",
    "This is an essential step to perform "
   ]
  },
  {
   "cell_type": "code",
   "execution_count": 8,
   "metadata": {},
   "outputs": [
    {
     "name": "stdout",
     "output_type": "stream",
     "text": [
      "Most likely path: ['E', 'E', 'E', 'E', 'E', 'E', 'E', 'E', 'E', 'E', 'E', 'E', 'E', 'E', 'E', 'E', 'E', 'E', 'E', 'E', 'E', 'E', 'E', 'E', 'E', 'E']\n"
     ]
    }
   ],
   "source": [
    "sequence = \"CTTCATGTGAAAGCAGACGTAAGTCA\"\n",
    "best_path = viterbi(sequence)\n",
    "print(\"Most likely path:\", best_path)"
   ]
  }
 ],
 "metadata": {
  "kernelspec": {
   "display_name": "Python 3",
   "language": "python",
   "name": "python3"
  },
  "language_info": {
   "codemirror_mode": {
    "name": "ipython",
    "version": 3
   },
   "file_extension": ".py",
   "mimetype": "text/x-python",
   "name": "python",
   "nbconvert_exporter": "python",
   "pygments_lexer": "ipython3",
   "version": "3.12.0"
  }
 },
 "nbformat": 4,
 "nbformat_minor": 2
}
