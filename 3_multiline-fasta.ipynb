{
 "cells": [
  {
   "cell_type": "code",
   "execution_count": 1,
   "metadata": {},
   "outputs": [],
   "source": [
    "#Here, I am going to read a multi-line fasta file and write it to a new file with each sequence on a single line.\n",
    "#The input file is assumed to be in the same directory as this script.\n",
    "#The output file will be named 'out.txt' and will also be in the same directory.\n",
    "with open('multiline_input.fasta', 'r') as f , open('out.txt','w') as out:\n",
    "    for line in f:\n",
    "        temp = line.strip()\n",
    "        if(line[0]=='>'):\n",
    "            out.write(f\"\\n{temp}\\n\")\n",
    "        else:\n",
    "            out.write(temp)\n",
    "# basically in this code I am reading a multi-line fasta file and writing it to a new file with each sequence on a single line.\n",
    "\n",
    "\n",
    "# I have not used the lists to store the sequences, instead I am writing them directly to the output file.\n",
    "# This is done to ensure that large input sequences can be handled easily without running out of memory."
   ]
  }
 ],
 "metadata": {
  "kernelspec": {
   "display_name": "Python 3",
   "language": "python",
   "name": "python3"
  },
  "language_info": {
   "codemirror_mode": {
    "name": "ipython",
    "version": 3
   },
   "file_extension": ".py",
   "mimetype": "text/x-python",
   "name": "python",
   "nbconvert_exporter": "python",
   "pygments_lexer": "ipython3",
   "version": "3.12.0"
  }
 },
 "nbformat": 4,
 "nbformat_minor": 2
}
